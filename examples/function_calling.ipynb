{
 "cells": [
  {
   "cell_type": "markdown",
   "metadata": {},
   "source": [
    "# Function Calling Example with EasyAI4All\n",
    "\n",
    "This notebook demonstrates how to use function calling capabilities with the EasyAI4All client library. We'll show how to:\n",
    "1. Set up the client\n",
    "2. Define function tools\n",
    "3. Make chat completion requests\n",
    "4. Handle responses"
   ]
  },
  {
   "cell_type": "code",
   "execution_count": null,
   "metadata": {
    "vscode": {
     "languageId": "plaintext"
    }
   },
   "outputs": [],
   "source": [
    "## Setup\n",
    "First, let's import the necessary libraries"
   ]
  },
  {
   "cell_type": "code",
   "execution_count": null,
   "metadata": {
    "vscode": {
     "languageId": "plaintext"
    }
   },
   "outputs": [],
   "source": [
    "from easyai4all.client import Client, OpenAI"
   ]
  },
  {
   "cell_type": "markdown",
   "metadata": {},
   "source": [
    "## Initialize the Client\n",
    "You can use either the OpenAI-specific client or the generic Client"
   ]
  },
  {
   "cell_type": "code",
   "execution_count": null,
   "metadata": {
    "vscode": {
     "languageId": "plaintext"
    }
   },
   "outputs": [],
   "source": [
    "# Option 1: OpenAI-specific initialization\n",
    "# client = OpenAI()\n",
    "\n",
    "# Option 2: Generic client initialization\n",
    "client = Client()"
   ]
  },
  {
   "cell_type": "markdown",
   "metadata": {},
   "source": [
    "## Define Function Tools\n",
    "Here we define a weather information function with its parameters and requirements"
   ]
  },
  {
   "cell_type": "code",
   "execution_count": null,
   "metadata": {
    "vscode": {
     "languageId": "plaintext"
    }
   },
   "outputs": [],
   "source": [
    "tools = [\n",
    "    {\n",
    "        \"type\": \"function\",\n",
    "        \"function\": {\n",
    "            \"name\": \"get_weather\",\n",
    "            \"parameters\": {\n",
    "                \"type\": \"object\",\n",
    "                \"properties\": {\n",
    "                    \"location\": {\n",
    "                        \"type\": \"string\",\n",
    "                        \"description\": \"The city or location to get weather for\"\n",
    "                    },\n",
    "                    \"unit\": {\n",
    "                        \"type\": \"string\",\n",
    "                        \"enum\": [\"c\", \"f\"],\n",
    "                        \"description\": \"Temperature unit (Celsius or Fahrenheit)\"\n",
    "                    },\n",
    "                },\n",
    "                \"required\": [\"location\", \"unit\"],\n",
    "                \"additionalProperties\": False,\n",
    "            },\n",
    "            \"description\": \"Get the current weather for a specified location\"\n",
    "        },\n",
    "    }\n",
    "]"
   ]
  },
  {
   "cell_type": "markdown",
   "metadata": {},
   "source": [
    "## Make Chat Completion Request\n",
    "Now let's make a request using our defined function"
   ]
  },
  {
   "cell_type": "code",
   "execution_count": null,
   "metadata": {
    "vscode": {
     "languageId": "plaintext"
    }
   },
   "outputs": [],
   "source": [
    "completion = client.create(\n",
    "    model=\"openai/gpt-4o\",\n",
    "    messages=[\n",
    "        {\n",
    "            \"role\": \"user\",\n",
    "            \"content\": \"What's the weather like in Paris today?\"\n",
    "        }\n",
    "    ],\n",
    "    tools=tools,\n",
    ")\n",
    "\n",
    "\"\"\"\n",
    "or alternatively, if using the dedicated OpenAI client\n",
    "\n",
    "\n",
    "completion = client.create(\n",
    "    model=\"gpt-4o\",\n",
    "    messages=[\n",
    "        {\n",
    "            \"role\": \"user\",\n",
    "            \"content\": \"What's the weather like in Paris today?\"\n",
    "        }\n",
    "    ],\n",
    "    tools=tools,\n",
    ")\n",
    "\"\"\""
   ]
  },
  {
   "cell_type": "markdown",
   "metadata": {},
   "source": [
    "## View Results\n",
    "Let's examine the response in different formats"
   ]
  },
  {
   "cell_type": "code",
   "execution_count": null,
   "metadata": {
    "vscode": {
     "languageId": "plaintext"
    }
   },
   "outputs": [],
   "source": [
    "# View complete response as dictionary\n",
    "print(\"Complete (JSON) response:\")\n",
    "print(completion.to_dict())\n",
    "\n",
    "print(\"\\nComplete (Objectified) response:\")\n",
    "print(completion)\n",
    "\n",
    "print(\"\\nTool Calls)\n",
    "print(completion.choices[0].message.tool_calls)"
   ]
  }
 ],
 "metadata": {
  "language_info": {
   "name": "python"
  }
 },
 "nbformat": 4,
 "nbformat_minor": 2
}
